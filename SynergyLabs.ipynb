{
 "cells": [
  {
   "cell_type": "code",
   "execution_count": 1,
   "metadata": {},
   "outputs": [],
   "source": [
    "import matplotlib.pyplot as plt\n",
    "import os\n",
    "import cv2\n",
    "from tqdm import tqdm\n",
    "import numpy as np"
   ]
  },
  {
   "cell_type": "code",
   "execution_count": 2,
   "metadata": {},
   "outputs": [],
   "source": [
    "DATADIR = 'chest_xray/test/'"
   ]
  },
  {
   "cell_type": "code",
   "execution_count": 3,
   "metadata": {},
   "outputs": [],
   "source": [
    "\n",
    "CATEGORIES = [\"NORMAL\"]"
   ]
  },
  {
   "cell_type": "code",
   "execution_count": 4,
   "metadata": {},
   "outputs": [
    {
     "name": "stderr",
     "output_type": "stream",
     "text": [
      "100%|██████████| 234/234 [00:06<00:00, 35.00it/s]"
     ]
    },
    {
     "name": "stdout",
     "output_type": "stream",
     "text": [
      "0\n"
     ]
    },
    {
     "name": "stderr",
     "output_type": "stream",
     "text": [
      "\n"
     ]
    }
   ],
   "source": [
    "training_data = []\n",
    "\n",
    "def create_training_data():\n",
    "    count = 0\n",
    "    for category in CATEGORIES:\n",
    "       \n",
    "        path = os.path.join(DATADIR,category)  # create path to dogs and cats\n",
    "        class_num = CATEGORIES.index(category)  # get the classification  (0 or a 1). 0=dog 1=cat\n",
    "        \n",
    "        for img in tqdm(os.listdir(path)):\n",
    "            count +=1\n",
    "             \n",
    "            \n",
    "            \n",
    "            try:\n",
    "                img = cv2.imread(os.path.join(path,img))\n",
    "               \n",
    "\n",
    "\n",
    "\n",
    "                \n",
    "            except Exception as e:  \n",
    "                pass\n",
    "            \n",
    "            file_name_path = \"Dataset/\"+\"test/\"+str(count)+'.jpg'\n",
    "            cv2.imwrite(file_name_path,img)\n",
    "create_training_data()\n",
    "\n",
    "print(len(training_data))"
   ]
  },
  {
   "cell_type": "code",
   "execution_count": 5,
   "metadata": {},
   "outputs": [
    {
     "name": "stderr",
     "output_type": "stream",
     "text": [
      "  2%|▏         | 4/234 [00:00<00:07, 29.99it/s]"
     ]
    },
    {
     "name": "stdout",
     "output_type": "stream",
     "text": [
      "Threshold limit: 103.0\n",
      "Threshold limit: 111.0\n",
      "Threshold limit: 98.0\n",
      "Threshold limit: 99.0\n",
      "Threshold limit: 99.0\n"
     ]
    },
    {
     "name": "stderr",
     "output_type": "stream",
     "text": [
      "  4%|▍         | 9/234 [00:00<00:08, 25.44it/s]"
     ]
    },
    {
     "name": "stdout",
     "output_type": "stream",
     "text": [
      "Threshold limit: 108.0\n",
      "Threshold limit: 103.0\n",
      "Threshold limit: 86.0\n",
      "Threshold limit: 117.0\n",
      "Threshold limit: 99.0\n"
     ]
    },
    {
     "name": "stderr",
     "output_type": "stream",
     "text": [
      "  6%|▋         | 15/234 [00:00<00:08, 25.42it/s]"
     ]
    },
    {
     "name": "stdout",
     "output_type": "stream",
     "text": [
      "Threshold limit: 99.0\n",
      "Threshold limit: 80.0\n",
      "Threshold limit: 95.0\n",
      "Threshold limit: 117.0\n",
      "Threshold limit: 108.0\n",
      "Threshold limit: 99.0\n"
     ]
    },
    {
     "name": "stderr",
     "output_type": "stream",
     "text": [
      "\r",
      "  8%|▊         | 18/234 [00:00<00:10, 21.38it/s]"
     ]
    },
    {
     "name": "stdout",
     "output_type": "stream",
     "text": [
      "Threshold limit: 126.0\n",
      "Threshold limit: 108.0\n",
      "Threshold limit: 113.0\n",
      "Threshold limit: 112.0\n"
     ]
    },
    {
     "name": "stderr",
     "output_type": "stream",
     "text": [
      " 11%|█         | 25/234 [00:01<00:08, 23.73it/s]"
     ]
    },
    {
     "name": "stdout",
     "output_type": "stream",
     "text": [
      "Threshold limit: 146.0\n",
      "Threshold limit: 130.0\n",
      "Threshold limit: 87.0\n",
      "Threshold limit: 106.0\n",
      "Threshold limit: 119.0\n",
      "Threshold limit: 99.0\n"
     ]
    },
    {
     "name": "stderr",
     "output_type": "stream",
     "text": [
      "\r",
      " 12%|█▏        | 28/234 [00:01<00:09, 21.82it/s]"
     ]
    },
    {
     "name": "stdout",
     "output_type": "stream",
     "text": [
      "Threshold limit: 145.0\n",
      "Threshold limit: 100.0\n",
      "Threshold limit: 97.0\n",
      "Threshold limit: 113.0\n",
      "Threshold limit: 122.0\n"
     ]
    },
    {
     "name": "stderr",
     "output_type": "stream",
     "text": [
      " 15%|█▍        | 34/234 [00:01<00:08, 22.76it/s]"
     ]
    },
    {
     "name": "stdout",
     "output_type": "stream",
     "text": [
      "Threshold limit: 105.0\n",
      "Threshold limit: 117.0\n",
      "Threshold limit: 91.0\n",
      "Threshold limit: 99.0\n",
      "Threshold limit: 111.0\n",
      "Threshold limit: 109.0\n"
     ]
    },
    {
     "name": "stderr",
     "output_type": "stream",
     "text": [
      " 18%|█▊        | 41/234 [00:01<00:07, 24.43it/s]"
     ]
    },
    {
     "name": "stdout",
     "output_type": "stream",
     "text": [
      "Threshold limit: 110.0\n",
      "Threshold limit: 146.0\n",
      "Threshold limit: 103.0\n",
      "Threshold limit: 95.0\n",
      "Threshold limit: 118.0\n"
     ]
    },
    {
     "name": "stderr",
     "output_type": "stream",
     "text": [
      " 20%|██        | 47/234 [00:02<00:08, 22.09it/s]"
     ]
    },
    {
     "name": "stdout",
     "output_type": "stream",
     "text": [
      "Threshold limit: 122.0\n",
      "Threshold limit: 91.0\n",
      "Threshold limit: 95.0\n",
      "Threshold limit: 102.0\n",
      "Threshold limit: 94.0\n",
      "Threshold limit: 75.0\n"
     ]
    },
    {
     "name": "stderr",
     "output_type": "stream",
     "text": [
      "\r",
      " 21%|██▏       | 50/234 [00:02<00:10, 18.20it/s]"
     ]
    },
    {
     "name": "stdout",
     "output_type": "stream",
     "text": [
      "Threshold limit: 134.0\n",
      "Threshold limit: 99.0\n",
      "Threshold limit: 105.0\n"
     ]
    },
    {
     "name": "stderr",
     "output_type": "stream",
     "text": [
      "\r",
      " 23%|██▎       | 53/234 [00:02<00:09, 19.30it/s]"
     ]
    },
    {
     "name": "stdout",
     "output_type": "stream",
     "text": [
      "Threshold limit: 119.0\n",
      "Threshold limit: 116.0\n",
      "Threshold limit: 133.0\n",
      "Threshold limit: 138.0\n"
     ]
    },
    {
     "name": "stderr",
     "output_type": "stream",
     "text": [
      "\r",
      " 24%|██▍       | 56/234 [00:02<00:10, 16.95it/s]"
     ]
    },
    {
     "name": "stdout",
     "output_type": "stream",
     "text": [
      "Threshold limit: 139.0\n",
      "Threshold limit: 129.0\n"
     ]
    },
    {
     "name": "stderr",
     "output_type": "stream",
     "text": [
      "\r",
      " 25%|██▍       | 58/234 [00:02<00:13, 12.91it/s]"
     ]
    },
    {
     "name": "stdout",
     "output_type": "stream",
     "text": [
      "Threshold limit: 107.0\n",
      "Threshold limit: 100.0\n"
     ]
    },
    {
     "name": "stderr",
     "output_type": "stream",
     "text": [
      " 27%|██▋       | 63/234 [00:03<00:12, 14.06it/s]"
     ]
    },
    {
     "name": "stdout",
     "output_type": "stream",
     "text": [
      "Threshold limit: 140.0\n",
      "Threshold limit: 84.0\n",
      "Threshold limit: 122.0\n",
      "Threshold limit: 98.0\n"
     ]
    },
    {
     "name": "stderr",
     "output_type": "stream",
     "text": [
      "\r",
      " 28%|██▊       | 66/234 [00:03<00:11, 14.98it/s]"
     ]
    },
    {
     "name": "stdout",
     "output_type": "stream",
     "text": [
      "Threshold limit: 104.0\n",
      "Threshold limit: 106.0\n",
      "Threshold limit: 136.0\n",
      "Threshold limit: 116.0\n"
     ]
    },
    {
     "name": "stderr",
     "output_type": "stream",
     "text": [
      " 30%|███       | 71/234 [00:03<00:09, 17.13it/s]"
     ]
    },
    {
     "name": "stdout",
     "output_type": "stream",
     "text": [
      "Threshold limit: 139.0\n",
      "Threshold limit: 104.0\n",
      "Threshold limit: 114.0\n",
      "Threshold limit: 92.0\n",
      "Threshold limit: 101.0\n"
     ]
    },
    {
     "name": "stderr",
     "output_type": "stream",
     "text": [
      "\r",
      " 32%|███▏      | 74/234 [00:03<00:08, 18.27it/s]"
     ]
    },
    {
     "name": "stdout",
     "output_type": "stream",
     "text": [
      "Threshold limit: 94.0\n",
      "Threshold limit: 96.0\n",
      "Threshold limit: 94.0\n",
      "Threshold limit: 121.0\n",
      "Threshold limit: 95.0\n"
     ]
    },
    {
     "name": "stderr",
     "output_type": "stream",
     "text": [
      " 35%|███▍      | 81/234 [00:04<00:06, 22.17it/s]"
     ]
    },
    {
     "name": "stdout",
     "output_type": "stream",
     "text": [
      "Threshold limit: 118.0\n",
      "Threshold limit: 89.0\n",
      "Threshold limit: 115.0\n",
      "Threshold limit: 90.0\n",
      "Threshold limit: 127.0\n",
      "Threshold limit: 128.0\n"
     ]
    },
    {
     "name": "stderr",
     "output_type": "stream",
     "text": [
      " 37%|███▋      | 87/234 [00:04<00:07, 19.51it/s]"
     ]
    },
    {
     "name": "stdout",
     "output_type": "stream",
     "text": [
      "Threshold limit: 100.0\n",
      "Threshold limit: 144.0\n",
      "Threshold limit: 89.0\n",
      "Threshold limit: 111.0\n"
     ]
    },
    {
     "name": "stderr",
     "output_type": "stream",
     "text": [
      "\r",
      " 38%|███▊      | 90/234 [00:04<00:07, 19.94it/s]"
     ]
    },
    {
     "name": "stdout",
     "output_type": "stream",
     "text": [
      "Threshold limit: 115.0\n",
      "Threshold limit: 112.0\n",
      "Threshold limit: 86.0\n",
      "Threshold limit: 112.0\n",
      "Threshold limit: 134.0\n"
     ]
    },
    {
     "name": "stderr",
     "output_type": "stream",
     "text": [
      " 41%|████      | 96/234 [00:04<00:06, 20.83it/s]"
     ]
    },
    {
     "name": "stdout",
     "output_type": "stream",
     "text": [
      "Threshold limit: 92.0\n",
      "Threshold limit: 101.0\n",
      "Threshold limit: 138.0\n",
      "Threshold limit: 99.0\n",
      "Threshold limit: 142.0\n",
      "Threshold limit: 105.0\n",
      "Threshold limit: 103.0\n"
     ]
    },
    {
     "name": "stderr",
     "output_type": "stream",
     "text": [
      " 43%|████▎     | 101/234 [00:05<00:08, 16.12it/s]"
     ]
    },
    {
     "name": "stdout",
     "output_type": "stream",
     "text": [
      "Threshold limit: 135.0\n",
      "Threshold limit: 96.0\n",
      "Threshold limit: 109.0\n"
     ]
    },
    {
     "name": "stderr",
     "output_type": "stream",
     "text": [
      " 45%|████▌     | 106/234 [00:05<00:07, 16.76it/s]"
     ]
    },
    {
     "name": "stdout",
     "output_type": "stream",
     "text": [
      "Threshold limit: 120.0\n",
      "Threshold limit: 114.0\n",
      "Threshold limit: 107.0\n",
      "Threshold limit: 131.0\n",
      "Threshold limit: 93.0\n",
      "Threshold limit: 138.0\n"
     ]
    },
    {
     "name": "stderr",
     "output_type": "stream",
     "text": [
      "\r",
      " 47%|████▋     | 109/234 [00:05<00:07, 17.79it/s]"
     ]
    },
    {
     "name": "stdout",
     "output_type": "stream",
     "text": [
      "Threshold limit: 110.0\n",
      "Threshold limit: 111.0\n",
      "Threshold limit: 119.0\n",
      "Threshold limit: 127.0\n"
     ]
    },
    {
     "name": "stderr",
     "output_type": "stream",
     "text": [
      " 49%|████▊     | 114/234 [00:05<00:07, 16.76it/s]"
     ]
    },
    {
     "name": "stdout",
     "output_type": "stream",
     "text": [
      "Threshold limit: 108.0\n",
      "Threshold limit: 114.0\n",
      "Threshold limit: 104.0\n",
      "Threshold limit: 121.0\n"
     ]
    },
    {
     "name": "stderr",
     "output_type": "stream",
     "text": [
      " 51%|█████▏    | 120/234 [00:06<00:06, 18.83it/s]"
     ]
    },
    {
     "name": "stdout",
     "output_type": "stream",
     "text": [
      "Threshold limit: 140.0\n",
      "Threshold limit: 102.0\n",
      "Threshold limit: 109.0\n",
      "Threshold limit: 98.0\n",
      "Threshold limit: 108.0\n"
     ]
    },
    {
     "name": "stderr",
     "output_type": "stream",
     "text": [
      "\r",
      " 53%|█████▎    | 124/234 [00:06<00:05, 21.30it/s]"
     ]
    },
    {
     "name": "stdout",
     "output_type": "stream",
     "text": [
      "Threshold limit: 115.0\n",
      "Threshold limit: 71.0\n",
      "Threshold limit: 100.0\n",
      "Threshold limit: 129.0\n",
      "Threshold limit: 109.0\n"
     ]
    },
    {
     "name": "stderr",
     "output_type": "stream",
     "text": [
      " 56%|█████▌    | 130/234 [00:06<00:05, 19.80it/s]"
     ]
    },
    {
     "name": "stdout",
     "output_type": "stream",
     "text": [
      "Threshold limit: 110.0\n",
      "Threshold limit: 146.0\n",
      "Threshold limit: 106.0\n",
      "Threshold limit: 114.0\n"
     ]
    },
    {
     "name": "stderr",
     "output_type": "stream",
     "text": [
      "\r",
      " 57%|█████▋    | 133/234 [00:06<00:05, 18.48it/s]"
     ]
    },
    {
     "name": "stdout",
     "output_type": "stream",
     "text": [
      "Threshold limit: 108.0\n",
      "Threshold limit: 103.0\n",
      "Threshold limit: 105.0\n",
      "Threshold limit: 138.0\n",
      "Threshold limit: 143.0\n"
     ]
    },
    {
     "name": "stderr",
     "output_type": "stream",
     "text": [
      " 59%|█████▉    | 138/234 [00:07<00:07, 12.26it/s]"
     ]
    },
    {
     "name": "stdout",
     "output_type": "stream",
     "text": [
      "Threshold limit: 105.0\n",
      "Threshold limit: 99.0\n",
      "Threshold limit: 127.0\n"
     ]
    },
    {
     "name": "stderr",
     "output_type": "stream",
     "text": [
      "\r",
      " 60%|█████▉    | 140/234 [00:07<00:06, 13.68it/s]"
     ]
    },
    {
     "name": "stdout",
     "output_type": "stream",
     "text": [
      "Threshold limit: 136.0\n",
      "Threshold limit: 107.0\n",
      "Threshold limit: 112.0\n"
     ]
    },
    {
     "name": "stderr",
     "output_type": "stream",
     "text": [
      " 62%|██████▏   | 144/234 [00:07<00:06, 13.81it/s]"
     ]
    },
    {
     "name": "stdout",
     "output_type": "stream",
     "text": [
      "Threshold limit: 103.0\n",
      "Threshold limit: 94.0\n",
      "Threshold limit: 124.0\n",
      "Threshold limit: 100.0\n"
     ]
    },
    {
     "name": "stderr",
     "output_type": "stream",
     "text": [
      "\r",
      " 62%|██████▏   | 146/234 [00:07<00:06, 13.48it/s]"
     ]
    },
    {
     "name": "stdout",
     "output_type": "stream",
     "text": [
      "Threshold limit: 99.0\n",
      "Threshold limit: 103.0\n",
      "Threshold limit: 130.0\n"
     ]
    },
    {
     "name": "stderr",
     "output_type": "stream",
     "text": [
      " 65%|██████▍   | 152/234 [00:08<00:05, 14.49it/s]"
     ]
    },
    {
     "name": "stdout",
     "output_type": "stream",
     "text": [
      "Threshold limit: 111.0\n",
      "Threshold limit: 129.0\n",
      "Threshold limit: 118.0\n",
      "Threshold limit: 106.0\n",
      "Threshold limit: 99.0\n"
     ]
    },
    {
     "name": "stderr",
     "output_type": "stream",
     "text": [
      " 68%|██████▊   | 158/234 [00:08<00:04, 17.18it/s]"
     ]
    },
    {
     "name": "stdout",
     "output_type": "stream",
     "text": [
      "Threshold limit: 103.0\n",
      "Threshold limit: 121.0\n",
      "Threshold limit: 75.0\n",
      "Threshold limit: 109.0\n",
      "Threshold limit: 142.0\n"
     ]
    },
    {
     "name": "stderr",
     "output_type": "stream",
     "text": [
      "\r",
      " 69%|██████▉   | 161/234 [00:08<00:04, 17.22it/s]"
     ]
    },
    {
     "name": "stdout",
     "output_type": "stream",
     "text": [
      "Threshold limit: 99.0\n",
      "Threshold limit: 105.0\n",
      "Threshold limit: 120.0\n",
      "Threshold limit: 108.0\n",
      "Threshold limit: 107.0\n"
     ]
    },
    {
     "name": "stderr",
     "output_type": "stream",
     "text": [
      " 71%|███████▏  | 167/234 [00:08<00:03, 20.19it/s]"
     ]
    },
    {
     "name": "stdout",
     "output_type": "stream",
     "text": [
      "Threshold limit: 136.0\n",
      "Threshold limit: 92.0\n",
      "Threshold limit: 87.0\n",
      "Threshold limit: 90.0\n",
      "Threshold limit: 124.0\n"
     ]
    },
    {
     "name": "stderr",
     "output_type": "stream",
     "text": [
      "\r",
      " 73%|███████▎  | 171/234 [00:09<00:02, 21.99it/s]"
     ]
    },
    {
     "name": "stdout",
     "output_type": "stream",
     "text": [
      "Threshold limit: 85.0\n",
      "Threshold limit: 81.0\n",
      "Threshold limit: 120.0\n",
      "Threshold limit: 102.0\n",
      "Threshold limit: 132.0\n"
     ]
    },
    {
     "name": "stderr",
     "output_type": "stream",
     "text": [
      " 76%|███████▌  | 178/234 [00:09<00:02, 21.69it/s]"
     ]
    },
    {
     "name": "stdout",
     "output_type": "stream",
     "text": [
      "Threshold limit: 118.0\n",
      "Threshold limit: 129.0\n",
      "Threshold limit: 118.0\n",
      "Threshold limit: 98.0\n",
      "Threshold limit: 100.0\n"
     ]
    },
    {
     "name": "stderr",
     "output_type": "stream",
     "text": [
      "\r",
      " 77%|███████▋  | 181/234 [00:09<00:02, 23.24it/s]"
     ]
    },
    {
     "name": "stdout",
     "output_type": "stream",
     "text": [
      "Threshold limit: 107.0\n",
      "Threshold limit: 106.0\n",
      "Threshold limit: 112.0\n",
      "Threshold limit: 111.0\n",
      "Threshold limit: 115.0\n"
     ]
    },
    {
     "name": "stderr",
     "output_type": "stream",
     "text": [
      " 80%|███████▉  | 187/234 [00:09<00:01, 24.31it/s]"
     ]
    },
    {
     "name": "stdout",
     "output_type": "stream",
     "text": [
      "Threshold limit: 99.0\n",
      "Threshold limit: 101.0\n",
      "Threshold limit: 97.0\n",
      "Threshold limit: 92.0\n",
      "Threshold limit: 89.0\n",
      "Threshold limit: 103.0\n"
     ]
    },
    {
     "name": "stderr",
     "output_type": "stream",
     "text": [
      " 82%|████████▏ | 193/234 [00:10<00:01, 23.86it/s]"
     ]
    },
    {
     "name": "stdout",
     "output_type": "stream",
     "text": [
      "Threshold limit: 117.0\n",
      "Threshold limit: 145.0\n",
      "Threshold limit: 125.0\n",
      "Threshold limit: 113.0\n",
      "Threshold limit: 104.0\n"
     ]
    },
    {
     "name": "stderr",
     "output_type": "stream",
     "text": [
      "\r",
      " 84%|████████▍ | 196/234 [00:10<00:01, 20.82it/s]"
     ]
    },
    {
     "name": "stdout",
     "output_type": "stream",
     "text": [
      "Threshold limit: 129.0\n",
      "Threshold limit: 104.0\n",
      "Threshold limit: 87.0\n",
      "Threshold limit: 117.0\n",
      "Threshold limit: 92.0\n"
     ]
    },
    {
     "name": "stderr",
     "output_type": "stream",
     "text": [
      " 86%|████████▋ | 202/234 [00:10<00:01, 23.43it/s]"
     ]
    },
    {
     "name": "stdout",
     "output_type": "stream",
     "text": [
      "Threshold limit: 103.0\n",
      "Threshold limit: 97.0\n",
      "Threshold limit: 108.0\n",
      "Threshold limit: 111.0\n",
      "Threshold limit: 104.0\n",
      "Threshold limit: 89.0\n",
      "Threshold limit: 118.0\n"
     ]
    },
    {
     "name": "stderr",
     "output_type": "stream",
     "text": [
      " 90%|████████▉ | 210/234 [00:10<00:00, 25.86it/s]"
     ]
    },
    {
     "name": "stdout",
     "output_type": "stream",
     "text": [
      "Threshold limit: 111.0\n",
      "Threshold limit: 113.0\n",
      "Threshold limit: 117.0\n",
      "Threshold limit: 143.0\n",
      "Threshold limit: 116.0\n"
     ]
    },
    {
     "name": "stderr",
     "output_type": "stream",
     "text": [
      "\r",
      " 91%|█████████ | 213/234 [00:10<00:00, 21.99it/s]"
     ]
    },
    {
     "name": "stdout",
     "output_type": "stream",
     "text": [
      "Threshold limit: 129.0\n",
      "Threshold limit: 99.0\n",
      "Threshold limit: 108.0\n",
      "Threshold limit: 87.0\n",
      "Threshold limit: 112.0\n"
     ]
    },
    {
     "name": "stderr",
     "output_type": "stream",
     "text": [
      "\r",
      " 93%|█████████▎| 217/234 [00:11<00:00, 22.85it/s]"
     ]
    },
    {
     "name": "stdout",
     "output_type": "stream",
     "text": [
      "Threshold limit: 138.0\n",
      "Threshold limit: 144.0\n",
      "Threshold limit: 125.0\n",
      "Threshold limit: 113.0\n"
     ]
    },
    {
     "name": "stderr",
     "output_type": "stream",
     "text": [
      " 95%|█████████▌| 223/234 [00:11<00:00, 20.38it/s]"
     ]
    },
    {
     "name": "stdout",
     "output_type": "stream",
     "text": [
      "Threshold limit: 118.0\n",
      "Threshold limit: 118.0\n",
      "Threshold limit: 132.0\n",
      "Threshold limit: 108.0\n",
      "Threshold limit: 105.0\n"
     ]
    },
    {
     "name": "stderr",
     "output_type": "stream",
     "text": [
      "\r",
      " 97%|█████████▋| 226/234 [00:11<00:00, 20.86it/s]"
     ]
    },
    {
     "name": "stdout",
     "output_type": "stream",
     "text": [
      "Threshold limit: 97.0\n",
      "Threshold limit: 112.0\n",
      "Threshold limit: 130.0\n",
      "Threshold limit: 110.0\n"
     ]
    },
    {
     "name": "stderr",
     "output_type": "stream",
     "text": [
      " 99%|█████████▊| 231/234 [00:11<00:00, 17.08it/s]"
     ]
    },
    {
     "name": "stdout",
     "output_type": "stream",
     "text": [
      "Threshold limit: 95.0\n",
      "Threshold limit: 111.0\n",
      "Threshold limit: 106.0\n",
      "Threshold limit: 117.0\n"
     ]
    },
    {
     "name": "stderr",
     "output_type": "stream",
     "text": [
      "100%|██████████| 234/234 [00:12<00:00, 19.19it/s]"
     ]
    },
    {
     "name": "stdout",
     "output_type": "stream",
     "text": [
      "Threshold limit: 131.0\n",
      "234\n"
     ]
    },
    {
     "name": "stderr",
     "output_type": "stream",
     "text": [
      "\n"
     ]
    }
   ],
   "source": [
    "training_data = []\n",
    "\n",
    "def create_training_data():\n",
    "    count = 0\n",
    "    for category in CATEGORIES:\n",
    "       \n",
    "        path = os.path.join(DATADIR,category)  # create path to dogs and cats\n",
    "        class_num = CATEGORIES.index(category)  # get the classification  (0 or a 1). 0=dog 1=cat\n",
    "        \n",
    "        for img in tqdm(os.listdir(path)):\n",
    "            count +=1\n",
    "             \n",
    "            \n",
    "            \n",
    "            try:\n",
    "                img = cv2.imread(os.path.join(path,img))\n",
    "                img = cv2.cvtColor(img, cv2.COLOR_BGR2RGB)\n",
    "                gray = cv2.cvtColor(img,cv2.COLOR_BGR2GRAY)\n",
    "                ret, thresh = cv2.threshold(gray, 0, 255, cv2.THRESH_BINARY_INV + cv2.THRESH_OTSU)\n",
    "                print(\"Threshold limit: \" + str(ret))\n",
    "                kernel = np.ones((3, 3), np.uint8)\n",
    "                opening = cv2.morphologyEx(thresh, cv2.MORPH_OPEN, kernel, iterations = 2)\n",
    "                sure_bg = cv2.dilate(opening, kernel, iterations = 3)\n",
    "                dist_transform = cv2.distanceTransform(opening,cv2.DIST_L2,5)\n",
    "                ret, sure_fg = cv2.threshold(dist_transform,0.7*dist_transform.max(),255,0)\n",
    "                sure_fg = np.uint8(sure_fg)\n",
    "                unknown = cv2.subtract(sure_bg,sure_fg)\n",
    "                training_data.append([sure_bg, class_num])\n",
    "\n",
    "\n",
    "\n",
    "                \n",
    "            except Exception as e:  \n",
    "                pass\n",
    "            \n",
    "            file_name_path = \"Dataset/\"+\"train/\"+str(count)+'.jpg'\n",
    "            cv2.imwrite(file_name_path,sure_bg)\n",
    "create_training_data()\n",
    "\n",
    "print(len(training_data))"
   ]
  },
  {
   "cell_type": "code",
   "execution_count": 6,
   "metadata": {},
   "outputs": [],
   "source": [
    "DATADIR = 'Dataset'"
   ]
  },
  {
   "cell_type": "code",
   "execution_count": 7,
   "metadata": {},
   "outputs": [],
   "source": [
    "\n",
    "CATEGORIES = [\"train\"]"
   ]
  },
  {
   "cell_type": "code",
   "execution_count": 8,
   "metadata": {},
   "outputs": [
    {
     "name": "stderr",
     "output_type": "stream",
     "text": [
      "100%|██████████| 234/234 [00:06<00:00, 35.88it/s]"
     ]
    },
    {
     "name": "stdout",
     "output_type": "stream",
     "text": [
      "234\n"
     ]
    },
    {
     "name": "stderr",
     "output_type": "stream",
     "text": [
      "\n"
     ]
    }
   ],
   "source": [
    "training_data = []\n",
    "\n",
    "def create_training_data():\n",
    "    count = 0\n",
    "    for category in CATEGORIES:\n",
    "       \n",
    "        path = os.path.join(DATADIR,category)  # create path to dogs and cats\n",
    "        class_num = CATEGORIES.index(category)  # get the classification  (0 or a 1). 0=dog 1=cat\n",
    "        \n",
    "        for img in tqdm(os.listdir(path)):\n",
    "            count +=1\n",
    "             \n",
    "            \n",
    "            \n",
    "            try:\n",
    "                img = cv2.imread(os.path.join(path,img))\n",
    "                gray = cv2.cvtColor(img,cv2.COLOR_RGB2BGR)\n",
    "                gray[:,:,1] = 1\n",
    "                gray[:,:,2] = 1\n",
    "                training_data.append([ gray, class_num])\n",
    "\n",
    "\n",
    "                \n",
    "            except Exception as e:  \n",
    "                pass\n",
    "            \n",
    "            file_name_path = \"result2/\"+\"test/\"+str(count)+'.jpg'\n",
    "            cv2.imwrite(file_name_path,gray)\n",
    "create_training_data()\n",
    "\n",
    "print(len(training_data))"
   ]
  },
  {
   "cell_type": "code",
   "execution_count": 10,
   "metadata": {},
   "outputs": [
    {
     "name": "stdout",
     "output_type": "stream",
     "text": [
      "/home/nitin/Desktop/fina;/result2/test80.jpg\n",
      "/home/nitin/Desktop/fina;/Dataset/test80.jpg\n",
      "/home/nitin/Desktop/fina;/result2/test151.jpg\n",
      "/home/nitin/Desktop/fina;/Dataset/test151.jpg\n",
      "/home/nitin/Desktop/fina;/result2/test200.jpg\n",
      "/home/nitin/Desktop/fina;/Dataset/test200.jpg\n",
      "/home/nitin/Desktop/fina;/result2/test121.jpg\n",
      "/home/nitin/Desktop/fina;/Dataset/test121.jpg\n",
      "/home/nitin/Desktop/fina;/result2/test11.jpg\n",
      "/home/nitin/Desktop/fina;/Dataset/test11.jpg\n",
      "/home/nitin/Desktop/fina;/result2/test221.jpg\n",
      "/home/nitin/Desktop/fina;/Dataset/test221.jpg\n",
      "/home/nitin/Desktop/fina;/result2/test5.jpg\n",
      "/home/nitin/Desktop/fina;/Dataset/test5.jpg\n",
      "/home/nitin/Desktop/fina;/result2/test111.jpg\n",
      "/home/nitin/Desktop/fina;/Dataset/test111.jpg\n",
      "/home/nitin/Desktop/fina;/result2/test26.jpg\n",
      "/home/nitin/Desktop/fina;/Dataset/test26.jpg\n",
      "/home/nitin/Desktop/fina;/result2/test56.jpg\n",
      "/home/nitin/Desktop/fina;/Dataset/test56.jpg\n",
      "/home/nitin/Desktop/fina;/result2/test198.jpg\n",
      "/home/nitin/Desktop/fina;/Dataset/test198.jpg\n",
      "/home/nitin/Desktop/fina;/result2/test201.jpg\n",
      "/home/nitin/Desktop/fina;/Dataset/test201.jpg\n",
      "/home/nitin/Desktop/fina;/result2/test152.jpg\n",
      "/home/nitin/Desktop/fina;/Dataset/test152.jpg\n",
      "/home/nitin/Desktop/fina;/result2/test81.jpg\n",
      "/home/nitin/Desktop/fina;/Dataset/test81.jpg\n",
      "/home/nitin/Desktop/fina;/result2/test10.jpg\n",
      "/home/nitin/Desktop/fina;/Dataset/test10.jpg\n",
      "/home/nitin/Desktop/fina;/result2/test21.jpg\n",
      "/home/nitin/Desktop/fina;/Dataset/test21.jpg\n",
      "/home/nitin/Desktop/fina;/result2/test132.jpg\n",
      "/home/nitin/Desktop/fina;/Dataset/test132.jpg\n",
      "/home/nitin/Desktop/fina;/result2/test48.jpg\n",
      "/home/nitin/Desktop/fina;/Dataset/test48.jpg\n",
      "/home/nitin/Desktop/fina;/result2/test20.jpg\n",
      "/home/nitin/Desktop/fina;/Dataset/test20.jpg\n",
      "/home/nitin/Desktop/fina;/result2/test58.jpg\n",
      "/home/nitin/Desktop/fina;/Dataset/test58.jpg\n",
      "/home/nitin/Desktop/fina;/result2/test165.jpg\n",
      "/home/nitin/Desktop/fina;/Dataset/test165.jpg\n",
      "/home/nitin/Desktop/fina;/result2/test125.jpg\n",
      "/home/nitin/Desktop/fina;/Dataset/test125.jpg\n",
      "/home/nitin/Desktop/fina;/result2/test208.jpg\n",
      "/home/nitin/Desktop/fina;/Dataset/test208.jpg\n",
      "/home/nitin/Desktop/fina;/result2/test19.jpg\n",
      "/home/nitin/Desktop/fina;/Dataset/test19.jpg\n",
      "/home/nitin/Desktop/fina;/result2/test187.jpg\n",
      "/home/nitin/Desktop/fina;/Dataset/test187.jpg\n",
      "/home/nitin/Desktop/fina;/result2/test136.jpg\n",
      "/home/nitin/Desktop/fina;/Dataset/test136.jpg\n",
      "/home/nitin/Desktop/fina;/result2/test103.jpg\n",
      "/home/nitin/Desktop/fina;/Dataset/test103.jpg\n",
      "/home/nitin/Desktop/fina;/result2/test72.jpg\n",
      "/home/nitin/Desktop/fina;/Dataset/test72.jpg\n",
      "/home/nitin/Desktop/fina;/result2/test170.jpg\n",
      "/home/nitin/Desktop/fina;/Dataset/test170.jpg\n",
      "/home/nitin/Desktop/fina;/result2/test142.jpg\n",
      "/home/nitin/Desktop/fina;/Dataset/test142.jpg\n",
      "/home/nitin/Desktop/fina;/result2/test110.jpg\n",
      "/home/nitin/Desktop/fina;/Dataset/test110.jpg\n",
      "/home/nitin/Desktop/fina;/result2/test1.jpg\n",
      "/home/nitin/Desktop/fina;/Dataset/test1.jpg\n",
      "/home/nitin/Desktop/fina;/result2/test189.jpg\n",
      "/home/nitin/Desktop/fina;/Dataset/test189.jpg\n",
      "/home/nitin/Desktop/fina;/result2/test89.jpg\n",
      "/home/nitin/Desktop/fina;/Dataset/test89.jpg\n",
      "/home/nitin/Desktop/fina;/result2/test61.jpg\n",
      "/home/nitin/Desktop/fina;/Dataset/test61.jpg\n",
      "/home/nitin/Desktop/fina;/result2/test76.jpg\n",
      "/home/nitin/Desktop/fina;/Dataset/test76.jpg\n",
      "/home/nitin/Desktop/fina;/result2/test140.jpg\n",
      "/home/nitin/Desktop/fina;/Dataset/test140.jpg\n",
      "/home/nitin/Desktop/fina;/result2/test79.jpg\n",
      "/home/nitin/Desktop/fina;/Dataset/test79.jpg\n",
      "/home/nitin/Desktop/fina;/result2/test174.jpg\n",
      "/home/nitin/Desktop/fina;/Dataset/test174.jpg\n",
      "/home/nitin/Desktop/fina;/result2/test147.jpg\n",
      "/home/nitin/Desktop/fina;/Dataset/test147.jpg\n",
      "/home/nitin/Desktop/fina;/result2/test234.jpg\n",
      "/home/nitin/Desktop/fina;/Dataset/test234.jpg\n",
      "/home/nitin/Desktop/fina;/result2/test216.jpg\n",
      "/home/nitin/Desktop/fina;/Dataset/test216.jpg\n",
      "/home/nitin/Desktop/fina;/result2/test194.jpg\n",
      "/home/nitin/Desktop/fina;/Dataset/test194.jpg\n",
      "/home/nitin/Desktop/fina;/result2/test44.jpg\n",
      "/home/nitin/Desktop/fina;/Dataset/test44.jpg\n",
      "/home/nitin/Desktop/fina;/result2/test41.jpg\n",
      "/home/nitin/Desktop/fina;/Dataset/test41.jpg\n",
      "/home/nitin/Desktop/fina;/result2/test93.jpg\n",
      "/home/nitin/Desktop/fina;/Dataset/test93.jpg\n",
      "/home/nitin/Desktop/fina;/result2/test33.jpg\n",
      "/home/nitin/Desktop/fina;/Dataset/test33.jpg\n",
      "/home/nitin/Desktop/fina;/result2/test224.jpg\n",
      "/home/nitin/Desktop/fina;/Dataset/test224.jpg\n",
      "/home/nitin/Desktop/fina;/result2/test233.jpg\n",
      "/home/nitin/Desktop/fina;/Dataset/test233.jpg\n",
      "/home/nitin/Desktop/fina;/result2/test95.jpg\n",
      "/home/nitin/Desktop/fina;/Dataset/test95.jpg\n",
      "/home/nitin/Desktop/fina;/result2/test172.jpg\n",
      "/home/nitin/Desktop/fina;/Dataset/test172.jpg\n",
      "/home/nitin/Desktop/fina;/result2/test176.jpg\n",
      "/home/nitin/Desktop/fina;/Dataset/test176.jpg\n",
      "/home/nitin/Desktop/fina;/result2/test47.jpg\n",
      "/home/nitin/Desktop/fina;/Dataset/test47.jpg\n",
      "/home/nitin/Desktop/fina;/result2/test87.jpg\n",
      "/home/nitin/Desktop/fina;/Dataset/test87.jpg\n",
      "/home/nitin/Desktop/fina;/result2/test9.jpg\n",
      "/home/nitin/Desktop/fina;/Dataset/test9.jpg\n",
      "/home/nitin/Desktop/fina;/result2/test28.jpg\n",
      "/home/nitin/Desktop/fina;/Dataset/test28.jpg\n",
      "/home/nitin/Desktop/fina;/result2/test164.jpg\n",
      "/home/nitin/Desktop/fina;/Dataset/test164.jpg\n",
      "/home/nitin/Desktop/fina;/result2/test213.jpg\n",
      "/home/nitin/Desktop/fina;/Dataset/test213.jpg\n",
      "/home/nitin/Desktop/fina;/result2/test51.jpg\n",
      "/home/nitin/Desktop/fina;/Dataset/test51.jpg\n",
      "/home/nitin/Desktop/fina;/result2/test78.jpg\n",
      "/home/nitin/Desktop/fina;/Dataset/test78.jpg\n",
      "/home/nitin/Desktop/fina;/result2/test193.jpg\n",
      "/home/nitin/Desktop/fina;/Dataset/test193.jpg\n",
      "/home/nitin/Desktop/fina;/result2/test118.jpg\n",
      "/home/nitin/Desktop/fina;/Dataset/test118.jpg\n",
      "/home/nitin/Desktop/fina;/result2/test217.jpg\n",
      "/home/nitin/Desktop/fina;/Dataset/test217.jpg\n",
      "/home/nitin/Desktop/fina;/result2/test101.jpg\n",
      "/home/nitin/Desktop/fina;/Dataset/test101.jpg\n",
      "/home/nitin/Desktop/fina;/result2/test23.jpg\n",
      "/home/nitin/Desktop/fina;/Dataset/test23.jpg\n",
      "/home/nitin/Desktop/fina;/result2/test168.jpg\n",
      "/home/nitin/Desktop/fina;/Dataset/test168.jpg\n",
      "/home/nitin/Desktop/fina;/result2/test219.jpg\n",
      "/home/nitin/Desktop/fina;/Dataset/test219.jpg\n",
      "/home/nitin/Desktop/fina;/result2/test65.jpg\n",
      "/home/nitin/Desktop/fina;/Dataset/test65.jpg\n",
      "/home/nitin/Desktop/fina;/result2/test204.jpg\n",
      "/home/nitin/Desktop/fina;/Dataset/test204.jpg\n",
      "/home/nitin/Desktop/fina;/result2/test82.jpg\n",
      "/home/nitin/Desktop/fina;/Dataset/test82.jpg\n",
      "/home/nitin/Desktop/fina;/result2/test226.jpg\n",
      "/home/nitin/Desktop/fina;/Dataset/test226.jpg\n",
      "/home/nitin/Desktop/fina;/result2/test139.jpg\n",
      "/home/nitin/Desktop/fina;/Dataset/test139.jpg\n",
      "/home/nitin/Desktop/fina;/result2/test34.jpg\n",
      "/home/nitin/Desktop/fina;/Dataset/test34.jpg\n",
      "/home/nitin/Desktop/fina;/result2/test190.jpg\n",
      "/home/nitin/Desktop/fina;/Dataset/test190.jpg\n",
      "/home/nitin/Desktop/fina;/result2/test42.jpg\n",
      "/home/nitin/Desktop/fina;/Dataset/test42.jpg\n",
      "/home/nitin/Desktop/fina;/result2/test195.jpg\n",
      "/home/nitin/Desktop/fina;/Dataset/test195.jpg\n",
      "/home/nitin/Desktop/fina;/result2/test109.jpg\n",
      "/home/nitin/Desktop/fina;/Dataset/test109.jpg\n",
      "/home/nitin/Desktop/fina;/result2/test25.jpg\n",
      "/home/nitin/Desktop/fina;/Dataset/test25.jpg\n",
      "/home/nitin/Desktop/fina;/result2/test205.jpg\n",
      "/home/nitin/Desktop/fina;/Dataset/test205.jpg\n",
      "/home/nitin/Desktop/fina;/result2/test148.jpg\n",
      "/home/nitin/Desktop/fina;/Dataset/test148.jpg\n",
      "/home/nitin/Desktop/fina;/result2/test122.jpg\n",
      "/home/nitin/Desktop/fina;/Dataset/test122.jpg\n",
      "/home/nitin/Desktop/fina;/result2/test175.jpg\n",
      "/home/nitin/Desktop/fina;/Dataset/test175.jpg\n",
      "/home/nitin/Desktop/fina;/result2/test129.jpg\n",
      "/home/nitin/Desktop/fina;/Dataset/test129.jpg\n",
      "/home/nitin/Desktop/fina;/result2/test191.jpg\n",
      "/home/nitin/Desktop/fina;/Dataset/test191.jpg\n",
      "/home/nitin/Desktop/fina;/result2/test98.jpg\n",
      "/home/nitin/Desktop/fina;/Dataset/test98.jpg\n",
      "/home/nitin/Desktop/fina;/result2/test83.jpg\n",
      "/home/nitin/Desktop/fina;/Dataset/test83.jpg\n",
      "/home/nitin/Desktop/fina;/result2/test232.jpg\n",
      "/home/nitin/Desktop/fina;/Dataset/test232.jpg\n",
      "/home/nitin/Desktop/fina;/result2/test192.jpg\n",
      "/home/nitin/Desktop/fina;/Dataset/test192.jpg\n",
      "/home/nitin/Desktop/fina;/result2/test63.jpg\n",
      "/home/nitin/Desktop/fina;/Dataset/test63.jpg\n",
      "/home/nitin/Desktop/fina;/result2/test12.jpg\n",
      "/home/nitin/Desktop/fina;/Dataset/test12.jpg\n",
      "/home/nitin/Desktop/fina;/result2/test29.jpg\n",
      "/home/nitin/Desktop/fina;/Dataset/test29.jpg\n",
      "/home/nitin/Desktop/fina;/result2/test104.jpg\n",
      "/home/nitin/Desktop/fina;/Dataset/test104.jpg\n",
      "/home/nitin/Desktop/fina;/result2/test161.jpg\n",
      "/home/nitin/Desktop/fina;/Dataset/test161.jpg\n",
      "/home/nitin/Desktop/fina;/result2/test137.jpg\n",
      "/home/nitin/Desktop/fina;/Dataset/test137.jpg\n",
      "/home/nitin/Desktop/fina;/result2/test141.jpg\n",
      "/home/nitin/Desktop/fina;/Dataset/test141.jpg\n",
      "/home/nitin/Desktop/fina;/result2/test225.jpg\n",
      "/home/nitin/Desktop/fina;/Dataset/test225.jpg\n",
      "/home/nitin/Desktop/fina;/result2/test116.jpg\n",
      "/home/nitin/Desktop/fina;/Dataset/test116.jpg\n",
      "/home/nitin/Desktop/fina;/result2/test211.jpg\n",
      "/home/nitin/Desktop/fina;/Dataset/test211.jpg\n",
      "/home/nitin/Desktop/fina;/result2/test74.jpg\n",
      "/home/nitin/Desktop/fina;/Dataset/test74.jpg\n",
      "/home/nitin/Desktop/fina;/result2/test171.jpg\n",
      "/home/nitin/Desktop/fina;/Dataset/test171.jpg\n",
      "/home/nitin/Desktop/fina;/result2/test108.jpg\n",
      "/home/nitin/Desktop/fina;/Dataset/test108.jpg\n",
      "/home/nitin/Desktop/fina;/result2/test199.jpg\n",
      "/home/nitin/Desktop/fina;/Dataset/test199.jpg\n",
      "/home/nitin/Desktop/fina;/result2/test173.jpg\n",
      "/home/nitin/Desktop/fina;/Dataset/test173.jpg\n",
      "/home/nitin/Desktop/fina;/result2/test69.jpg\n",
      "/home/nitin/Desktop/fina;/Dataset/test69.jpg\n",
      "/home/nitin/Desktop/fina;/result2/test27.jpg\n",
      "/home/nitin/Desktop/fina;/Dataset/test27.jpg\n",
      "/home/nitin/Desktop/fina;/result2/test146.jpg\n",
      "/home/nitin/Desktop/fina;/Dataset/test146.jpg\n",
      "/home/nitin/Desktop/fina;/result2/test86.jpg\n",
      "/home/nitin/Desktop/fina;/Dataset/test86.jpg\n",
      "/home/nitin/Desktop/fina;/result2/test214.jpg\n",
      "/home/nitin/Desktop/fina;/Dataset/test214.jpg\n",
      "/home/nitin/Desktop/fina;/result2/test179.jpg\n",
      "/home/nitin/Desktop/fina;/Dataset/test179.jpg\n",
      "/home/nitin/Desktop/fina;/result2/test38.jpg\n",
      "/home/nitin/Desktop/fina;/Dataset/test38.jpg\n",
      "/home/nitin/Desktop/fina;/result2/test91.jpg\n",
      "/home/nitin/Desktop/fina;/Dataset/test91.jpg\n",
      "/home/nitin/Desktop/fina;/result2/test52.jpg\n",
      "/home/nitin/Desktop/fina;/Dataset/test52.jpg\n",
      "/home/nitin/Desktop/fina;/result2/test49.jpg\n",
      "/home/nitin/Desktop/fina;/Dataset/test49.jpg\n",
      "/home/nitin/Desktop/fina;/result2/test153.jpg\n",
      "/home/nitin/Desktop/fina;/Dataset/test153.jpg\n",
      "/home/nitin/Desktop/fina;/result2/test45.jpg\n",
      "/home/nitin/Desktop/fina;/Dataset/test45.jpg\n",
      "/home/nitin/Desktop/fina;/result2/test182.jpg\n",
      "/home/nitin/Desktop/fina;/Dataset/test182.jpg\n",
      "/home/nitin/Desktop/fina;/result2/test231.jpg\n",
      "/home/nitin/Desktop/fina;/Dataset/test231.jpg\n",
      "/home/nitin/Desktop/fina;/result2/test73.jpg\n",
      "/home/nitin/Desktop/fina;/Dataset/test73.jpg\n",
      "/home/nitin/Desktop/fina;/result2/test64.jpg\n",
      "/home/nitin/Desktop/fina;/Dataset/test64.jpg\n",
      "/home/nitin/Desktop/fina;/result2/test154.jpg\n",
      "/home/nitin/Desktop/fina;/Dataset/test154.jpg\n",
      "/home/nitin/Desktop/fina;/result2/test54.jpg\n",
      "/home/nitin/Desktop/fina;/Dataset/test54.jpg\n",
      "/home/nitin/Desktop/fina;/result2/test37.jpg\n",
      "/home/nitin/Desktop/fina;/Dataset/test37.jpg\n",
      "/home/nitin/Desktop/fina;/result2/test84.jpg\n",
      "/home/nitin/Desktop/fina;/Dataset/test84.jpg\n",
      "/home/nitin/Desktop/fina;/result2/test94.jpg\n",
      "/home/nitin/Desktop/fina;/Dataset/test94.jpg\n",
      "/home/nitin/Desktop/fina;/result2/test220.jpg\n",
      "/home/nitin/Desktop/fina;/Dataset/test220.jpg\n",
      "/home/nitin/Desktop/fina;/result2/test230.jpg\n",
      "/home/nitin/Desktop/fina;/Dataset/test230.jpg\n",
      "/home/nitin/Desktop/fina;/result2/test75.jpg\n",
      "/home/nitin/Desktop/fina;/Dataset/test75.jpg\n",
      "/home/nitin/Desktop/fina;/result2/test209.jpg\n",
      "/home/nitin/Desktop/fina;/Dataset/test209.jpg\n",
      "/home/nitin/Desktop/fina;/result2/test126.jpg\n",
      "/home/nitin/Desktop/fina;/Dataset/test126.jpg\n",
      "/home/nitin/Desktop/fina;/result2/test131.jpg\n",
      "/home/nitin/Desktop/fina;/Dataset/test131.jpg\n",
      "/home/nitin/Desktop/fina;/result2/test57.jpg\n",
      "/home/nitin/Desktop/fina;/Dataset/test57.jpg\n",
      "/home/nitin/Desktop/fina;/result2/test158.jpg\n",
      "/home/nitin/Desktop/fina;/Dataset/test158.jpg\n",
      "/home/nitin/Desktop/fina;/result2/test17.jpg\n",
      "/home/nitin/Desktop/fina;/Dataset/test17.jpg\n",
      "/home/nitin/Desktop/fina;/result2/test35.jpg\n",
      "/home/nitin/Desktop/fina;/Dataset/test35.jpg\n",
      "/home/nitin/Desktop/fina;/result2/test134.jpg\n",
      "/home/nitin/Desktop/fina;/Dataset/test134.jpg\n",
      "/home/nitin/Desktop/fina;/result2/test53.jpg\n",
      "/home/nitin/Desktop/fina;/Dataset/test53.jpg\n",
      "/home/nitin/Desktop/fina;/result2/test46.jpg\n",
      "/home/nitin/Desktop/fina;/Dataset/test46.jpg\n",
      "/home/nitin/Desktop/fina;/result2/test157.jpg\n",
      "/home/nitin/Desktop/fina;/Dataset/test157.jpg\n",
      "/home/nitin/Desktop/fina;/result2/test155.jpg\n",
      "/home/nitin/Desktop/fina;/Dataset/test155.jpg\n",
      "/home/nitin/Desktop/fina;/result2/test177.jpg\n",
      "/home/nitin/Desktop/fina;/Dataset/test177.jpg\n",
      "/home/nitin/Desktop/fina;/result2/test99.jpg\n",
      "/home/nitin/Desktop/fina;/Dataset/test99.jpg\n",
      "/home/nitin/Desktop/fina;/result2/test18.jpg\n",
      "/home/nitin/Desktop/fina;/Dataset/test18.jpg\n",
      "/home/nitin/Desktop/fina;/result2/test127.jpg\n",
      "/home/nitin/Desktop/fina;/Dataset/test127.jpg\n",
      "/home/nitin/Desktop/fina;/result2/test206.jpg\n",
      "/home/nitin/Desktop/fina;/Dataset/test206.jpg\n",
      "/home/nitin/Desktop/fina;/result2/test31.jpg\n",
      "/home/nitin/Desktop/fina;/Dataset/test31.jpg\n",
      "/home/nitin/Desktop/fina;/result2/test207.jpg\n",
      "/home/nitin/Desktop/fina;/Dataset/test207.jpg\n",
      "/home/nitin/Desktop/fina;/result2/test203.jpg\n",
      "/home/nitin/Desktop/fina;/Dataset/test203.jpg\n",
      "/home/nitin/Desktop/fina;/result2/test40.jpg\n",
      "/home/nitin/Desktop/fina;/Dataset/test40.jpg\n",
      "/home/nitin/Desktop/fina;/result2/test212.jpg\n",
      "/home/nitin/Desktop/fina;/Dataset/test212.jpg\n",
      "/home/nitin/Desktop/fina;/result2/test135.jpg\n",
      "/home/nitin/Desktop/fina;/Dataset/test135.jpg\n",
      "/home/nitin/Desktop/fina;/result2/test92.jpg\n",
      "/home/nitin/Desktop/fina;/Dataset/test92.jpg\n",
      "/home/nitin/Desktop/fina;/result2/test178.jpg\n",
      "/home/nitin/Desktop/fina;/Dataset/test178.jpg\n",
      "/home/nitin/Desktop/fina;/result2/test106.jpg\n",
      "/home/nitin/Desktop/fina;/Dataset/test106.jpg\n",
      "/home/nitin/Desktop/fina;/result2/test145.jpg\n",
      "/home/nitin/Desktop/fina;/Dataset/test145.jpg\n",
      "/home/nitin/Desktop/fina;/result2/test112.jpg\n",
      "/home/nitin/Desktop/fina;/Dataset/test112.jpg\n",
      "/home/nitin/Desktop/fina;/result2/test143.jpg\n",
      "/home/nitin/Desktop/fina;/Dataset/test143.jpg\n",
      "/home/nitin/Desktop/fina;/result2/test85.jpg\n",
      "/home/nitin/Desktop/fina;/Dataset/test85.jpg\n",
      "/home/nitin/Desktop/fina;/result2/test128.jpg\n",
      "/home/nitin/Desktop/fina;/Dataset/test128.jpg\n",
      "/home/nitin/Desktop/fina;/result2/test163.jpg\n",
      "/home/nitin/Desktop/fina;/Dataset/test163.jpg\n",
      "/home/nitin/Desktop/fina;/result2/test167.jpg\n",
      "/home/nitin/Desktop/fina;/Dataset/test167.jpg\n",
      "/home/nitin/Desktop/fina;/result2/test105.jpg\n",
      "/home/nitin/Desktop/fina;/Dataset/test105.jpg\n",
      "/home/nitin/Desktop/fina;/result2/test6.jpg\n",
      "/home/nitin/Desktop/fina;/Dataset/test6.jpg\n",
      "/home/nitin/Desktop/fina;/result2/test222.jpg\n",
      "/home/nitin/Desktop/fina;/Dataset/test222.jpg\n",
      "/home/nitin/Desktop/fina;/result2/test24.jpg\n",
      "/home/nitin/Desktop/fina;/Dataset/test24.jpg\n",
      "/home/nitin/Desktop/fina;/result2/test119.jpg\n",
      "/home/nitin/Desktop/fina;/Dataset/test119.jpg\n",
      "/home/nitin/Desktop/fina;/result2/test8.jpg\n",
      "/home/nitin/Desktop/fina;/Dataset/test8.jpg\n",
      "/home/nitin/Desktop/fina;/result2/test77.jpg\n",
      "/home/nitin/Desktop/fina;/Dataset/test77.jpg\n",
      "/home/nitin/Desktop/fina;/result2/test60.jpg\n",
      "/home/nitin/Desktop/fina;/Dataset/test60.jpg\n",
      "/home/nitin/Desktop/fina;/result2/test150.jpg\n",
      "/home/nitin/Desktop/fina;/Dataset/test150.jpg\n",
      "/home/nitin/Desktop/fina;/result2/test184.jpg\n",
      "/home/nitin/Desktop/fina;/Dataset/test184.jpg\n",
      "/home/nitin/Desktop/fina;/result2/test66.jpg\n",
      "/home/nitin/Desktop/fina;/Dataset/test66.jpg\n",
      "/home/nitin/Desktop/fina;/result2/test114.jpg\n",
      "/home/nitin/Desktop/fina;/Dataset/test114.jpg\n",
      "/home/nitin/Desktop/fina;/result2/test197.jpg\n",
      "/home/nitin/Desktop/fina;/Dataset/test197.jpg\n",
      "/home/nitin/Desktop/fina;/result2/test32.jpg\n",
      "/home/nitin/Desktop/fina;/Dataset/test32.jpg\n",
      "/home/nitin/Desktop/fina;/result2/test70.jpg\n",
      "/home/nitin/Desktop/fina;/Dataset/test70.jpg\n",
      "/home/nitin/Desktop/fina;/result2/test120.jpg\n",
      "/home/nitin/Desktop/fina;/Dataset/test120.jpg\n",
      "/home/nitin/Desktop/fina;/result2/test50.jpg\n",
      "/home/nitin/Desktop/fina;/Dataset/test50.jpg\n",
      "/home/nitin/Desktop/fina;/result2/test117.jpg\n",
      "/home/nitin/Desktop/fina;/Dataset/test117.jpg\n",
      "/home/nitin/Desktop/fina;/result2/test159.jpg\n",
      "/home/nitin/Desktop/fina;/Dataset/test159.jpg\n",
      "/home/nitin/Desktop/fina;/result2/test215.jpg\n",
      "/home/nitin/Desktop/fina;/Dataset/test215.jpg\n",
      "/home/nitin/Desktop/fina;/result2/test43.jpg\n",
      "/home/nitin/Desktop/fina;/Dataset/test43.jpg\n",
      "/home/nitin/Desktop/fina;/result2/test229.jpg\n",
      "/home/nitin/Desktop/fina;/Dataset/test229.jpg\n",
      "/home/nitin/Desktop/fina;/result2/test62.jpg\n",
      "/home/nitin/Desktop/fina;/Dataset/test62.jpg\n",
      "/home/nitin/Desktop/fina;/result2/test90.jpg\n",
      "/home/nitin/Desktop/fina;/Dataset/test90.jpg\n",
      "/home/nitin/Desktop/fina;/result2/test14.jpg\n",
      "/home/nitin/Desktop/fina;/Dataset/test14.jpg\n",
      "/home/nitin/Desktop/fina;/result2/test2.jpg\n",
      "/home/nitin/Desktop/fina;/Dataset/test2.jpg\n",
      "/home/nitin/Desktop/fina;/result2/test36.jpg\n",
      "/home/nitin/Desktop/fina;/Dataset/test36.jpg\n",
      "/home/nitin/Desktop/fina;/result2/test223.jpg\n",
      "/home/nitin/Desktop/fina;/Dataset/test223.jpg\n",
      "/home/nitin/Desktop/fina;/result2/test30.jpg\n",
      "/home/nitin/Desktop/fina;/Dataset/test30.jpg\n",
      "/home/nitin/Desktop/fina;/result2/test22.jpg\n",
      "/home/nitin/Desktop/fina;/Dataset/test22.jpg\n",
      "/home/nitin/Desktop/fina;/result2/test39.jpg\n",
      "/home/nitin/Desktop/fina;/Dataset/test39.jpg\n",
      "/home/nitin/Desktop/fina;/result2/test100.jpg\n",
      "/home/nitin/Desktop/fina;/Dataset/test100.jpg\n",
      "/home/nitin/Desktop/fina;/result2/test16.jpg\n",
      "/home/nitin/Desktop/fina;/Dataset/test16.jpg\n",
      "/home/nitin/Desktop/fina;/result2/test149.jpg\n",
      "/home/nitin/Desktop/fina;/Dataset/test149.jpg\n",
      "/home/nitin/Desktop/fina;/result2/test196.jpg\n",
      "/home/nitin/Desktop/fina;/Dataset/test196.jpg\n",
      "/home/nitin/Desktop/fina;/result2/test59.jpg\n",
      "/home/nitin/Desktop/fina;/Dataset/test59.jpg\n",
      "/home/nitin/Desktop/fina;/result2/test4.jpg\n",
      "/home/nitin/Desktop/fina;/Dataset/test4.jpg\n",
      "/home/nitin/Desktop/fina;/result2/test169.jpg\n",
      "/home/nitin/Desktop/fina;/Dataset/test169.jpg\n",
      "/home/nitin/Desktop/fina;/result2/test166.jpg\n",
      "/home/nitin/Desktop/fina;/Dataset/test166.jpg\n",
      "/home/nitin/Desktop/fina;/result2/test183.jpg\n",
      "/home/nitin/Desktop/fina;/Dataset/test183.jpg\n",
      "/home/nitin/Desktop/fina;/result2/test210.jpg\n",
      "/home/nitin/Desktop/fina;/Dataset/test210.jpg\n",
      "/home/nitin/Desktop/fina;/result2/test133.jpg\n",
      "/home/nitin/Desktop/fina;/Dataset/test133.jpg\n",
      "/home/nitin/Desktop/fina;/result2/test156.jpg\n",
      "/home/nitin/Desktop/fina;/Dataset/test156.jpg\n",
      "/home/nitin/Desktop/fina;/result2/test113.jpg\n",
      "/home/nitin/Desktop/fina;/Dataset/test113.jpg\n",
      "/home/nitin/Desktop/fina;/result2/test107.jpg\n",
      "/home/nitin/Desktop/fina;/Dataset/test107.jpg\n",
      "/home/nitin/Desktop/fina;/result2/test130.jpg\n",
      "/home/nitin/Desktop/fina;/Dataset/test130.jpg\n",
      "/home/nitin/Desktop/fina;/result2/test227.jpg\n",
      "/home/nitin/Desktop/fina;/Dataset/test227.jpg\n",
      "/home/nitin/Desktop/fina;/result2/test68.jpg\n",
      "/home/nitin/Desktop/fina;/Dataset/test68.jpg\n",
      "/home/nitin/Desktop/fina;/result2/test188.jpg\n",
      "/home/nitin/Desktop/fina;/Dataset/test188.jpg\n",
      "/home/nitin/Desktop/fina;/result2/test67.jpg\n",
      "/home/nitin/Desktop/fina;/Dataset/test67.jpg\n",
      "/home/nitin/Desktop/fina;/result2/test97.jpg\n",
      "/home/nitin/Desktop/fina;/Dataset/test97.jpg\n",
      "/home/nitin/Desktop/fina;/result2/test115.jpg\n",
      "/home/nitin/Desktop/fina;/Dataset/test115.jpg\n",
      "/home/nitin/Desktop/fina;/result2/test138.jpg\n",
      "/home/nitin/Desktop/fina;/Dataset/test138.jpg\n",
      "/home/nitin/Desktop/fina;/result2/test3.jpg\n",
      "/home/nitin/Desktop/fina;/Dataset/test3.jpg\n",
      "/home/nitin/Desktop/fina;/result2/test162.jpg\n",
      "/home/nitin/Desktop/fina;/Dataset/test162.jpg\n",
      "/home/nitin/Desktop/fina;/result2/test55.jpg\n",
      "/home/nitin/Desktop/fina;/Dataset/test55.jpg\n",
      "/home/nitin/Desktop/fina;/result2/test228.jpg\n",
      "/home/nitin/Desktop/fina;/Dataset/test228.jpg\n",
      "/home/nitin/Desktop/fina;/result2/test218.jpg\n",
      "/home/nitin/Desktop/fina;/Dataset/test218.jpg\n",
      "/home/nitin/Desktop/fina;/result2/test123.jpg\n",
      "/home/nitin/Desktop/fina;/Dataset/test123.jpg\n",
      "/home/nitin/Desktop/fina;/result2/test7.jpg\n",
      "/home/nitin/Desktop/fina;/Dataset/test7.jpg\n",
      "/home/nitin/Desktop/fina;/result2/test71.jpg\n",
      "/home/nitin/Desktop/fina;/Dataset/test71.jpg\n",
      "/home/nitin/Desktop/fina;/result2/test186.jpg\n",
      "/home/nitin/Desktop/fina;/Dataset/test186.jpg\n",
      "/home/nitin/Desktop/fina;/result2/test13.jpg\n",
      "/home/nitin/Desktop/fina;/Dataset/test13.jpg\n",
      "/home/nitin/Desktop/fina;/result2/test202.jpg\n",
      "/home/nitin/Desktop/fina;/Dataset/test202.jpg\n",
      "/home/nitin/Desktop/fina;/result2/test96.jpg\n",
      "/home/nitin/Desktop/fina;/Dataset/test96.jpg\n",
      "/home/nitin/Desktop/fina;/result2/test180.jpg\n",
      "/home/nitin/Desktop/fina;/Dataset/test180.jpg\n",
      "/home/nitin/Desktop/fina;/result2/test181.jpg\n",
      "/home/nitin/Desktop/fina;/Dataset/test181.jpg\n",
      "/home/nitin/Desktop/fina;/result2/test102.jpg\n",
      "/home/nitin/Desktop/fina;/Dataset/test102.jpg\n",
      "/home/nitin/Desktop/fina;/result2/test124.jpg\n",
      "/home/nitin/Desktop/fina;/Dataset/test124.jpg\n",
      "/home/nitin/Desktop/fina;/result2/test144.jpg\n",
      "/home/nitin/Desktop/fina;/Dataset/test144.jpg\n",
      "/home/nitin/Desktop/fina;/result2/test88.jpg\n",
      "/home/nitin/Desktop/fina;/Dataset/test88.jpg\n",
      "/home/nitin/Desktop/fina;/result2/test15.jpg\n",
      "/home/nitin/Desktop/fina;/Dataset/test15.jpg\n",
      "/home/nitin/Desktop/fina;/result2/test185.jpg\n",
      "/home/nitin/Desktop/fina;/Dataset/test185.jpg\n",
      "/home/nitin/Desktop/fina;/result2/test160.jpg\n",
      "/home/nitin/Desktop/fina;/Dataset/test160.jpg\n"
     ]
    }
   ],
   "source": [
    "a = os.listdir(\"/home/nitin/Desktop/final/result2/test\")\n",
    "b = os.listdir(\"/home/nitin/Desktop/final/Dataset/test\")\n",
    "\n",
    "for i in range(len(a)):\n",
    "    \n",
    "\n",
    "                                                      \n",
    "    print (\"/home/nitin/Desktop/fina;/result2/test\"+a[i])\n",
    "    print (\"/home/nitin/Desktop/fina;/Dataset/test\"+b[i])\n"
   ]
  },
  {
   "cell_type": "code",
   "execution_count": 11,
   "metadata": {},
   "outputs": [],
   "source": [
    "path1 = \"/home/nitin/Desktop/final/result2/test/\"\n",
    "path2 = \"/home/nitin/Desktop/final/Dataset/test/\"\n",
    "\n",
    "a = os.listdir(path1)\n",
    "b = os.listdir(path2)\n",
    "\n",
    "for i in range(len(a)):\n",
    "    img = cv2.imread(path1 + a[i])\n",
    "    mask = cv2.imread(path2 + b[i])\n",
    "    logo = cv2.resize(img,(mask.shape[1],mask.shape[0]))\n",
    "    ret,logo_mask = cv2.threshold(logo[:,:,0], 0, 255, cv2.THRESH_BINARY|cv2.THRESH_OTSU)\n",
    "    room2 = mask.copy()\n",
    "    room2[np.where(logo_mask == 255)] = logo[np.where(logo_mask == 255)]\n",
    "    file_name_path = \"result3/\" +str(i)+'.jpeg'\n",
    "    cv2.imwrite(file_name_path,room2)\n",
    "\n",
    "                                                      \n",
    "    #print (\"/home/nitin/Desktop/fina;/result2/test\"+a[i])\n",
    "    #print (\"/home/nitin/Desktop/fina;/Dataset/test\"+b[i])\n"
   ]
  },
  {
   "cell_type": "code",
   "execution_count": null,
   "metadata": {},
   "outputs": [],
   "source": []
  }
 ],
 "metadata": {
  "kernelspec": {
   "display_name": "Python 3",
   "language": "python",
   "name": "python3"
  },
  "language_info": {
   "codemirror_mode": {
    "name": "ipython",
    "version": 3
   },
   "file_extension": ".py",
   "mimetype": "text/x-python",
   "name": "python",
   "nbconvert_exporter": "python",
   "pygments_lexer": "ipython3",
   "version": "3.7.5"
  }
 },
 "nbformat": 4,
 "nbformat_minor": 2
}
